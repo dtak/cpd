{
 "cells": [
  {
   "cell_type": "code",
   "execution_count": 3,
   "metadata": {},
   "outputs": [],
   "source": [
    "import sys\n",
    "\n",
    "HOME_DIR = '/Users/abhisheksharma-mbpro/Documents/cpd-moht'\n",
    "if HOME_DIR not in sys.path:\n",
    "  sys.path.append(HOME_DIR)"
   ]
  },
  {
   "cell_type": "code",
   "execution_count": null,
   "metadata": {},
   "outputs": [],
   "source": [
    "from importlib import reload\n",
    "\n",
    "import matplotlib.pyplot as plt\n",
    "import numpy as np\n",
    "\n",
    "import cpd.metrics as cpd_metrics\n",
    "import cpd.utils as cpd_utils\n",
    "import data.create_synthetic_data as cpd_data\n"
   ]
  },
  {
   "cell_type": "code",
   "execution_count": 5,
   "metadata": {},
   "outputs": [],
   "source": [
    "DATASET_NAME = 'occupancy'\n",
    "TCPD_DATASET_PATHS: dict[str, str] = cpd_utils.get_tcpd_dataset_paths()\n",
    "TCPD_ANNOTATIONS_PATH = (\n",
    "  '/Users/abhisheksharma-mbpro/Documents/cpd-moht/TCPD/annotations.json'  # noqa: E501\n",
    ")\n"
   ]
  },
  {
   "cell_type": "code",
   "execution_count": null,
   "metadata": {},
   "outputs": [],
   "source": [
    "DATASET_NAME = 'occupancy'\n",
    "data, mat = cpd_utils.load_tcpd_dataset(TCPD_DATASET_PATHS[DATASET_NAME])\n",
    "print(mat.shape)"
   ]
  },
  {
   "cell_type": "code",
   "execution_count": 6,
   "metadata": {},
   "outputs": [],
   "source": [
    "data, mat = cpd_utils.load_tcpd_dataset(TCPD_DATASET_PATHS[DATASET_NAME])\n",
    "# Get annotations for all datasets and users\n",
    "annotations = cpd_utils.get_tcpd_annotations()\n",
    "# Get the changepoints annotations from one user\n",
    "changepoints_annotations = annotations.get(DATASET_NAME)[\n",
    "  next(iter(annotations.get(DATASET_NAME)))\n",
    "]\n",
    "f\"\"\"\n",
    "python cpdbench_bocpdms.py \\\n",
    "  --input /Users/abhisheksharma-mbpro/Documents/cpd-moht/TCPD/datasets/{DATASET_NAME}/{DATASET_NAME}.json \\\n",
    "  --intensity 100.0 \\\n",
    "  --prior-a 1 \\\n",
    "  --prior-b 1 \\\n",
    "  --threshold 100 \\\n",
    "  --use-timeout\n",
    "\"\"\"  # noqa: E501\n",
    "changepoints_bocpdms = [4, 6, 95, 188, 464, 506]\n"
   ]
  },
  {
   "cell_type": "code",
   "execution_count": null,
   "metadata": {},
   "outputs": [],
   "source": [
    "print(\n",
    "  'Average F-measure against Human Annotations: ',\n",
    "  cpd_metrics.f_measure(annotations[DATASET_NAME], changepoints_bocpdms),\n",
    ")"
   ]
  },
  {
   "cell_type": "code",
   "execution_count": 16,
   "metadata": {},
   "outputs": [],
   "source": [
    "def visualize_dataset(mat, ax=None):\n",
    "  \"\"\"Visualize the time series stored in `mat`.\"\"\"\n",
    "  if ax is None:\n",
    "    fig, ax = plt.subplots(figsize=(10, 4))\n",
    "\n",
    "  ax.plot(\n",
    "    np.arange(mat.shape[0]),\n",
    "    mat.flatten(),\n",
    "    marker='o',\n",
    "    linestyle='-',\n",
    "    markersize=3,\n",
    "    c='b',\n",
    "    label='Time Series',\n",
    "  )\n",
    "\n",
    "  ax.set_xlabel('Time Steps')\n",
    "  ax.set_ylabel('Value')\n",
    "  ax.grid(True)\n",
    "\n",
    "\n",
    "def visualize_changepoints(changepoints, ax=None, color='red'):\n",
    "  \"\"\"Visualize the changepoints stored in `changepoints`.\"\"\"\n",
    "  for cp in changepoints:\n",
    "    # Draw a vertical dashed line at each changepoint\n",
    "    ax.axvline(\n",
    "      x=cp,\n",
    "      color=color,\n",
    "      linestyle='--',\n",
    "      alpha=0.7,\n",
    "    )\n"
   ]
  },
  {
   "cell_type": "markdown",
   "metadata": {},
   "source": [
    "# Visualize the dataset"
   ]
  },
  {
   "cell_type": "code",
   "execution_count": null,
   "metadata": {},
   "outputs": [],
   "source": [
    "# Visualize the dataset\n",
    "# If the dataset has only one dimension, we don't need to plot each dimension\n",
    "# separately.\n",
    "if mat.shape[1] == 1:\n",
    "  fig, ax = plt.subplots(2, 1, figsize=(10, 4))\n",
    "  visualize_dataset(mat, ax=ax[0])\n",
    "  visualize_changepoints(changepoints_bocpdms, ax=ax[0])\n",
    "  for changepoints_annotations in annotations[DATASET_NAME].values():\n",
    "    visualize_dataset(mat, ax=ax[1])\n",
    "    visualize_changepoints(changepoints_annotations, ax=ax[1])\n",
    "  ax[0].set_title(f'{DATASET_NAME} BOCPDMS')\n",
    "  ax[1].set_title(f'{DATASET_NAME} Human Annotations')\n",
    "  fig.tight_layout()\n",
    "\n",
    "# If the dataset has multiple dimensions, we plot each dimension separately.\n",
    "if mat.shape[1] > 1:\n",
    "  fig, ax = plt.subplots(mat.shape[1], 1, figsize=(10, 6), sharex=True)\n",
    "  for i in range(mat.shape[1]):\n",
    "    visualize_dataset(mat[:, i : i + 1], ax=ax[i])\n",
    "    visualize_changepoints(changepoints_bocpdms, ax=ax[i])\n",
    "  ax[0].set_title(f'{DATASET_NAME} BOCPDMS')\n",
    "\n",
    "  fig.tight_layout()\n",
    "\n",
    "  fig, ax = plt.subplots(mat.shape[1], 1, figsize=(10, 5), sharex=True)\n",
    "  cmap = plt.cm.get_cmap('tab10')\n",
    "  for i in range(mat.shape[1]):\n",
    "    visualize_dataset(mat[:, i : i + 1], ax=ax[i])\n",
    "    for j, changepoints_annotations in enumerate(\n",
    "      annotations[DATASET_NAME].values()\n",
    "    ):\n",
    "      visualize_changepoints(changepoints_annotations, ax=ax[i], color=cmap(j))\n",
    "  ax[0].set_title(f'{DATASET_NAME} Human Annotations')\n",
    "  fig.tight_layout()\n"
   ]
  },
  {
   "cell_type": "markdown",
   "metadata": {},
   "source": [
    "# Create and visualize synthetic data"
   ]
  },
  {
   "cell_type": "code",
   "execution_count": 24,
   "metadata": {},
   "outputs": [],
   "source": [
    "reload(cpd_data)\n",
    "mat, changepoints = cpd_data.create_synthetic_multivariate_time_series(\n",
    "  T=200, D=5, change_points=[0, 50, 100, 150, 200]\n",
    ")"
   ]
  },
  {
   "cell_type": "code",
   "execution_count": null,
   "metadata": {},
   "outputs": [],
   "source": [
    "fig, ax = plt.subplots(mat.shape[1], 1, figsize=(10, 6), sharex=True)\n",
    "for i in range(mat.shape[1]):\n",
    "  visualize_dataset(mat[:, i : i + 1], ax=ax[i])\n",
    "  visualize_changepoints(changepoints, ax=ax[i])"
   ]
  },
  {
   "cell_type": "code",
   "execution_count": null,
   "metadata": {},
   "outputs": [],
   "source": [
    "import pandas as pd\n",
    "\n",
    "import cpd.anomaly_detection\n",
    "\n",
    "# Create and apply the detector\n",
    "detector = cpd.anomaly_detection.MultivariateTSAnomalyDetector(\n",
    "  alpha=0.05, n_bootstrap=500, freq=7\n",
    ")\n",
    "df = pd.DataFrame(mat, columns=[f'feature_{i}' for i in range(mat.shape[1])])\n",
    "results = detector.detect_anomalies(df)\n",
    "# Plot the results\n",
    "fig = detector.plot_results(df, results)"
   ]
  }
 ],
 "metadata": {
  "kernelspec": {
   "display_name": ".venv",
   "language": "python",
   "name": "python3"
  },
  "language_info": {
   "codemirror_mode": {
    "name": "ipython",
    "version": 3
   },
   "file_extension": ".py",
   "mimetype": "text/x-python",
   "name": "python",
   "nbconvert_exporter": "python",
   "pygments_lexer": "ipython3",
   "version": "3.12.7"
  }
 },
 "nbformat": 4,
 "nbformat_minor": 2
}
