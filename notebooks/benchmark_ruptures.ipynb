{
 "cells": [
  {
   "cell_type": "code",
   "execution_count": 1,
   "metadata": {},
   "outputs": [],
   "source": [
    "import sys\n",
    "\n",
    "HOME_DIR = '/Users/abhisheksharma-mbpro/Documents/cpd-moht'\n",
    "if HOME_DIR not in sys.path:\n",
    "  sys.path.append(HOME_DIR)"
   ]
  },
  {
   "cell_type": "code",
   "execution_count": 2,
   "metadata": {},
   "outputs": [],
   "source": [
    "import ruptures as rpt\n",
    "\n",
    "import cpd.utils as cpd_utils\n"
   ]
  },
  {
   "cell_type": "markdown",
   "metadata": {},
   "source": [
    "# Load Datasets"
   ]
  },
  {
   "cell_type": "code",
   "execution_count": null,
   "metadata": {},
   "outputs": [],
   "source": [
    "DATASET_NAME = 'occupancy'\n",
    "DATASET_PATHS: dict[str, str] = cpd_utils.get_tcpd_dataset_paths()"
   ]
  },
  {
   "cell_type": "code",
   "execution_count": null,
   "metadata": {},
   "outputs": [],
   "source": [
    "data, mat = cpd_utils.load_dataset(DATASET_PATHS[DATASET_NAME])\n",
    "# Get annotations for all datasets and users\n",
    "annotations = cpd_utils.get_tcpd_annotations()\n",
    "# Get the changepoints annotations from one user\n",
    "changepoints_annotations = annotations.get(DATASET_NAME)[\n",
    "  next(iter(annotations.get(DATASET_NAME)))\n",
    "]\n",
    "\n",
    "print(mat.shape)\n",
    "f\"\"\"\n",
    "python cpdbench_bocpdms.py \\\n",
    "  --input /Users/abhisheksharma-mbpro/Documents/cpd-moht/TCPD/datasets/{DATASET_NAME}/{DATASET_NAME}.json \\\n",
    "  --intensity 100.0 \\\n",
    "  --prior-a 1 \\\n",
    "  --prior-b 1 \\\n",
    "  --threshold 100 \\\n",
    "  --use-timeout\n",
    "\"\"\"  # noqa: E501\n",
    "changepoints_bocpdms = [4, 6, 95, 188, 464, 506]\n"
   ]
  },
  {
   "cell_type": "markdown",
   "metadata": {},
   "source": [
    "# PELT"
   ]
  },
  {
   "cell_type": "code",
   "execution_count": null,
   "metadata": {},
   "outputs": [],
   "source": [
    "PELT_COST_VALUES = ['l1', 'l2', 'rbf']\n",
    "PELT_PENALTY_VALUES = [1, 10, 100]\n",
    "\n",
    "for model in PELT_COST_VALUES:\n",
    "  for penalty in PELT_PENALTY_VALUES:\n",
    "    result = rpt.Pelt(model=model).fit_predict(mat, pen=penalty)\n",
    "    fig, axs = rpt.display(mat, result, changepoints_bocpdms, figsize=(10, 5))\n",
    "    axs[0].set_title(f'Model: {model}, Penalty: {penalty}')"
   ]
  },
  {
   "cell_type": "markdown",
   "metadata": {},
   "source": [
    "# Window"
   ]
  },
  {
   "cell_type": "code",
   "execution_count": null,
   "metadata": {},
   "outputs": [],
   "source": [
    "WINDOW_COST_VALUES = ['l2']\n",
    "WINDOW_PENALTY_VALUES = [1, 10]\n",
    "WINDOW_WIDTH_VALUES = [10, 20, 30, 40, 50]\n",
    "\n",
    "for model in WINDOW_COST_VALUES:\n",
    "  for penalty in WINDOW_PENALTY_VALUES:\n",
    "    for width in WINDOW_WIDTH_VALUES:\n",
    "      result = rpt.Window(model=model, width=width).fit_predict(\n",
    "        mat, pen=penalty\n",
    "      )\n",
    "      fig, axs = rpt.display(mat, result, changepoints_bocpdms, figsize=(10, 5))\n",
    "      axs[0].set_title(f'Model: {model}, Penalty: {penalty}, Width: {width}')"
   ]
  },
  {
   "cell_type": "markdown",
   "metadata": {},
   "source": [
    "# BinSeg"
   ]
  },
  {
   "cell_type": "code",
   "execution_count": null,
   "metadata": {},
   "outputs": [],
   "source": [
    "BINSEG_MODEL_VALUES = ['l1', 'l2', 'rbf']\n",
    "BINSEG_PENALTY_VALUES = [10, 100]\n",
    "BINSEG_JUMP_VALUES = [2, 5, 10]\n",
    "\n",
    "for model in BINSEG_MODEL_VALUES:\n",
    "  for penalty in BINSEG_PENALTY_VALUES:\n",
    "    for jump in BINSEG_JUMP_VALUES:\n",
    "      result = rpt.Binseg(\n",
    "        model=model,\n",
    "        jump=jump,\n",
    "      ).fit_predict(\n",
    "        mat,\n",
    "        pen=penalty,\n",
    "      )\n",
    "      fig, axs = rpt.display(mat, result, changepoints_bocpdms, figsize=(10, 5))\n",
    "      axs[0].set_title(f'Model: {model}, Penalty: {penalty}, Jump: {jump}')"
   ]
  },
  {
   "cell_type": "markdown",
   "metadata": {},
   "source": [
    "# BottomUp"
   ]
  },
  {
   "cell_type": "code",
   "execution_count": null,
   "metadata": {},
   "outputs": [],
   "source": [
    "BOTTOMUP_MODEL_VALUES = ['l1', 'l2', 'rbf']\n",
    "BOTTOMUP_JUMP_VALUES = [2, 5, 10]\n",
    "BOTTOMUP_PENALTY_VALUES = [10, 100]\n",
    "\n",
    "for model in BOTTOMUP_MODEL_VALUES:\n",
    "  for penalty in BOTTOMUP_PENALTY_VALUES:\n",
    "    for jump in BOTTOMUP_JUMP_VALUES:\n",
    "      result = rpt.BottomUp(\n",
    "        model=model,\n",
    "        jump=jump,\n",
    "      ).fit_predict(\n",
    "        mat,\n",
    "        pen=penalty,\n",
    "      )\n",
    "      fig, axs = rpt.display(mat, result, changepoints_bocpdms, figsize=(10, 5))\n",
    "      axs[0].set_title(f'Model: {model}, Penalty: {penalty}, Jump: {jump}')"
   ]
  }
 ],
 "metadata": {
  "kernelspec": {
   "display_name": ".venv",
   "language": "python",
   "name": "python3"
  },
  "language_info": {
   "codemirror_mode": {
    "name": "ipython",
    "version": 3
   },
   "file_extension": ".py",
   "mimetype": "text/x-python",
   "name": "python",
   "nbconvert_exporter": "python",
   "pygments_lexer": "ipython3",
   "version": "3.12.7"
  }
 },
 "nbformat": 4,
 "nbformat_minor": 2
}
